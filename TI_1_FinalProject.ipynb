{
 "cells": [
  {
   "cell_type": "markdown",
   "metadata": {},
   "source": [
    "# Final Project\n",
    "\n",
    "**Name:** -- Roberto José González --\n",
    "\n",
    "**e-mail:** -- roberto.jose0745@alumnos.udg.mx --"
   ]
  },
  {
   "cell_type": "markdown",
   "metadata": {},
   "source": [
    "# MODULES"
   ]
  },
  {
   "cell_type": "code",
   "execution_count": 32,
   "metadata": {},
   "outputs": [],
   "source": [
    "# Import necessary libraries\n",
    "import pandas as pd\n",
    "import numpy as np\n",
    "import plotly.express as px\n",
    "import plotly.graph_objects as go\n",
    "import ipywidgets as widgets\n",
    "from IPython.display import display, clear_output"
   ]
  },
  {
   "cell_type": "markdown",
   "metadata": {},
   "source": [
    "**Minimum requirements:**\n",
    "\n",
    "Like HW 4, the final project is a dashboard that uses interactive graphics to display information from a data set.\n",
    "\n",
    "* **Layer 1:** The dashboard must include a parameters menu for modifying the characteristics of the data set. The data set can either be created online through a function, as with the trajectories in HW 4, or imported from an external source. When working with an existing data set, the parameters in the menu will act as filters.\n",
    "* **Layer 2:** Display a graphical representation of the source data set.\n",
    "* **Layer 3:** The dashboard must include a control panel for computing metrics from the source dataset. The metrics must also be represented graphically.\n",
    "\n",
    "Each team will present a project proposal by Saturday, the 18th, at the latest (see the attached PDF for reference—FP_Team7.pdf). If necessary, the team will receive feedback to adjust its proposal to meet the minimum requirements.\n",
    "\n",
    "**Evaluation:**\n",
    "* The notebook will be submitted as a git repository on GitHub. (You will need to make the repository public or share it with the user @ferwar)\n",
    "* For the submission to be valid, the repository must include a history of commits reflecting the development of the assignment.\n",
    "* Repositories with only one commit will not be considered as valid.\n",
    "* The repository must include commits from all team members.\n",
    "* The team will present its dashboard to a group of evaluators. \n",
    "* All team members must be capable of explaining their code and solving any bugs introduced to it."
   ]
  },
  {
   "cell_type": "code",
   "execution_count": 33,
   "metadata": {},
   "outputs": [
    {
     "name": "stdout",
     "output_type": "stream",
     "text": [
      "Dataset Preview:\n"
     ]
    },
    {
     "data": {
      "text/html": [
       "<div>\n",
       "<style scoped>\n",
       "    .dataframe tbody tr th:only-of-type {\n",
       "        vertical-align: middle;\n",
       "    }\n",
       "\n",
       "    .dataframe tbody tr th {\n",
       "        vertical-align: top;\n",
       "    }\n",
       "\n",
       "    .dataframe thead th {\n",
       "        text-align: right;\n",
       "    }\n",
       "</style>\n",
       "<table border=\"1\" class=\"dataframe\">\n",
       "  <thead>\n",
       "    <tr style=\"text-align: right;\">\n",
       "      <th></th>\n",
       "      <th>first_name</th>\n",
       "      <th>last_name</th>\n",
       "      <th>age</th>\n",
       "      <th>Happy_Sad_group</th>\n",
       "      <th>Dosage</th>\n",
       "      <th>Drug</th>\n",
       "      <th>Mem_Score_Before</th>\n",
       "      <th>Mem_Score_After</th>\n",
       "      <th>Diff</th>\n",
       "    </tr>\n",
       "  </thead>\n",
       "  <tbody>\n",
       "    <tr>\n",
       "      <th>0</th>\n",
       "      <td>Bastian</td>\n",
       "      <td>Carrasco</td>\n",
       "      <td>25</td>\n",
       "      <td>H</td>\n",
       "      <td>1</td>\n",
       "      <td>A</td>\n",
       "      <td>63.5</td>\n",
       "      <td>61.2</td>\n",
       "      <td>-2.3</td>\n",
       "    </tr>\n",
       "    <tr>\n",
       "      <th>1</th>\n",
       "      <td>Evan</td>\n",
       "      <td>Carrasco</td>\n",
       "      <td>52</td>\n",
       "      <td>S</td>\n",
       "      <td>1</td>\n",
       "      <td>A</td>\n",
       "      <td>41.6</td>\n",
       "      <td>40.7</td>\n",
       "      <td>-0.9</td>\n",
       "    </tr>\n",
       "    <tr>\n",
       "      <th>2</th>\n",
       "      <td>Florencia</td>\n",
       "      <td>Carrasco</td>\n",
       "      <td>29</td>\n",
       "      <td>H</td>\n",
       "      <td>1</td>\n",
       "      <td>A</td>\n",
       "      <td>59.7</td>\n",
       "      <td>55.1</td>\n",
       "      <td>-4.6</td>\n",
       "    </tr>\n",
       "    <tr>\n",
       "      <th>3</th>\n",
       "      <td>Holly</td>\n",
       "      <td>Carrasco</td>\n",
       "      <td>50</td>\n",
       "      <td>S</td>\n",
       "      <td>1</td>\n",
       "      <td>A</td>\n",
       "      <td>51.7</td>\n",
       "      <td>51.2</td>\n",
       "      <td>-0.5</td>\n",
       "    </tr>\n",
       "    <tr>\n",
       "      <th>4</th>\n",
       "      <td>Justin</td>\n",
       "      <td>Carrasco</td>\n",
       "      <td>52</td>\n",
       "      <td>H</td>\n",
       "      <td>1</td>\n",
       "      <td>A</td>\n",
       "      <td>47.0</td>\n",
       "      <td>47.1</td>\n",
       "      <td>0.1</td>\n",
       "    </tr>\n",
       "  </tbody>\n",
       "</table>\n",
       "</div>"
      ],
      "text/plain": [
       "  first_name last_name  age Happy_Sad_group  Dosage Drug  Mem_Score_Before  \\\n",
       "0    Bastian  Carrasco   25               H       1    A              63.5   \n",
       "1       Evan  Carrasco   52               S       1    A              41.6   \n",
       "2  Florencia  Carrasco   29               H       1    A              59.7   \n",
       "3      Holly  Carrasco   50               S       1    A              51.7   \n",
       "4     Justin  Carrasco   52               H       1    A              47.0   \n",
       "\n",
       "   Mem_Score_After  Diff  \n",
       "0             61.2  -2.3  \n",
       "1             40.7  -0.9  \n",
       "2             55.1  -4.6  \n",
       "3             51.2  -0.5  \n",
       "4             47.1   0.1  "
      ]
     },
     "metadata": {},
     "output_type": "display_data"
    }
   ],
   "source": [
    "# 1. Load the dataset\n",
    "# Ensure that the file path is correct for your system\n",
    "data_path = r\"C:\\Users\\rober\\OneDrive - Instituto Politecnico Nacional\\Maestría en Cómputo Aplicado\\4. Tópicos de Industria 1 - Análisis y Visualización de Datos\\Final Project - Dashboard\\islander_data.csv\"\n",
    "df = pd.read_csv(data_path)\n",
    "\n",
    "# Display a preview of the dataset\n",
    "print(\"Dataset Preview:\")\n",
    "display(df.head())"
   ]
  },
  {
   "cell_type": "code",
   "execution_count": 34,
   "metadata": {},
   "outputs": [],
   "source": [
    "# 2. Define the function to update the dashboard based on selected filters\n",
    "def update_dashboard(age_range, happy_sad, drug):\n",
    "    clear_output(wait=True)\n",
    "    display(ui)  # Keep the filter controls visible\n",
    "\n",
    "    # Create a copy of the dataset to apply filters\n",
    "    filtered_df = df.copy()\n",
    "    \n",
    "    # Filter by age range\n",
    "    filtered_df = filtered_df[(filtered_df['age'] >= age_range[0]) & (filtered_df['age'] <= age_range[1])]\n",
    "    \n",
    "    # Filter by Happy/Sad group if not 'All'\n",
    "    if happy_sad != 'All':\n",
    "        filtered_df = filtered_df[filtered_df['Happy_Sad_group'] == happy_sad]\n",
    "        \n",
    "    # Filter by Drug type if not 'All'\n",
    "    if drug != 'All':\n",
    "        filtered_df = filtered_df[filtered_df['Drug'] == drug]\n",
    "    \n",
    "    # 2.a. Display the filtered data table\n",
    "    print(\"Filtered Data:\")\n",
    "    display(filtered_df)\n",
    "    \n",
    "    # 2.b. Plot a histogram of the 'Diff' column distribution\n",
    "    fig_hist = px.histogram(filtered_df, x='Diff', nbins=20,\n",
    "                            title=\"Distribution of Memory Score Difference (Diff)\",\n",
    "                            labels={'Diff': 'Difference (Mem_Score_After - Mem_Score_Before)'})\n",
    "    fig_hist.update_layout(bargap=0.1)\n",
    "    fig_hist.show()\n",
    "    \n",
    "    # 2.c. Create a scatter plot for correlation between age and 'Diff'\n",
    "    fig_scatter = px.scatter(filtered_df, x='age', y='Diff',\n",
    "                             title=\"Correlation between Age and Memory Score Difference\",\n",
    "                             labels={'age': 'Age', 'Diff': 'Memory Score Difference'})\n",
    "    fig_scatter.show()\n",
    "    \n",
    "    # 3. Compute and display key metrics in a control panel\n",
    "    avg_diff = filtered_df['Diff'].mean()\n",
    "    std_diff = filtered_df['Diff'].std()\n",
    "    corr_age_diff = filtered_df['age'].corr(filtered_df['Diff'])\n",
    "    \n",
    "    print(\"Control Panel - Metrics:\")\n",
    "    print(f\"Average Difference: {avg_diff:.2f}\")\n",
    "    print(f\"Standard Deviation of Difference: {std_diff:.2f}\")\n",
    "    print(f\"Correlation between Age and Diff: {corr_age_diff:.2f}\")\n",
    "    \n",
    "    # Create a summary bar chart for the metrics using Plotly\n",
    "    metrics = {'Average Diff': avg_diff, 'Std Diff': std_diff, 'Age-Diff Corr': corr_age_diff}\n",
    "    fig_bar = go.Figure([\n",
    "        go.Bar(\n",
    "            x=list(metrics.keys()),\n",
    "            y=list(metrics.values()),\n",
    "            text=[f\"{v:.2f}\" for v in metrics.values()],\n",
    "            textposition='auto'\n",
    "        )\n",
    "    ])\n",
    "    fig_bar.update_layout(title=\"Summary Metrics\", yaxis_title=\"Value\")\n",
    "    fig_bar.show()\n"
   ]
  },
  {
   "cell_type": "code",
   "execution_count": 35,
   "metadata": {},
   "outputs": [
    {
     "data": {
      "application/vnd.jupyter.widget-view+json": {
       "model_id": "003dd883f2e34deda05c0a5fc5cf31a7",
       "version_major": 2,
       "version_minor": 0
      },
      "text/plain": [
       "VBox(children=(IntRangeSlider(value=(24, 83), continuous_update=False, description='Age Range:', max=83, min=2…"
      ]
     },
     "metadata": {},
     "output_type": "display_data"
    },
    {
     "data": {
      "application/vnd.jupyter.widget-view+json": {
       "model_id": "4f77252929a04f778c3ae8228aabaee8",
       "version_major": 2,
       "version_minor": 0
      },
      "text/plain": [
       "Output()"
      ]
     },
     "metadata": {},
     "output_type": "display_data"
    }
   ],
   "source": [
    "# 4. Create interactive widgets for filtering the data\n",
    "# Add the 'All' option for Happy_Sad_group and Drug so that users can opt-out of filtering by these columns\n",
    "happy_options = ['All'] + sorted(df['Happy_Sad_group'].dropna().unique().tolist())\n",
    "drug_options = ['All'] + sorted(df['Drug'].dropna().unique().tolist())\n",
    "\n",
    "# Widget for selecting an age range\n",
    "age_slider = widgets.IntRangeSlider(\n",
    "    value=[int(df['age'].min()), int(df['age'].max())],\n",
    "    min=int(df['age'].min()),\n",
    "    max=int(df['age'].max()),\n",
    "    step=1,\n",
    "    description='Age Range:',\n",
    "    continuous_update=False\n",
    ")\n",
    "\n",
    "# Dropdown widget for selecting Happy/Sad group\n",
    "happy_dropdown = widgets.Dropdown(\n",
    "    options=happy_options,\n",
    "    value='All',\n",
    "    description='Happy/Sad:'\n",
    ")\n",
    "\n",
    "# Dropdown widget for selecting Drug type\n",
    "drug_dropdown = widgets.Dropdown(\n",
    "    options=drug_options,\n",
    "    value='All',\n",
    "    description='Drug:'\n",
    ")\n",
    "\n",
    "# Arrange the widgets vertically\n",
    "ui = widgets.VBox([age_slider, happy_dropdown, drug_dropdown])\n",
    "\n",
    "# Create an interactive output that updates the dashboard when widgets change\n",
    "out = widgets.interactive_output(update_dashboard, {'age_range': age_slider, 'happy_sad': happy_dropdown, 'drug': drug_dropdown})\n",
    "\n",
    "# Display the filter controls and the output area\n",
    "display(ui, out)"
   ]
  }
 ],
 "metadata": {
  "kernelspec": {
   "display_name": "Python 3",
   "language": "python",
   "name": "python3"
  },
  "language_info": {
   "codemirror_mode": {
    "name": "ipython",
    "version": 3
   },
   "file_extension": ".py",
   "mimetype": "text/x-python",
   "name": "python",
   "nbconvert_exporter": "python",
   "pygments_lexer": "ipython3",
   "version": "3.13.0"
  }
 },
 "nbformat": 4,
 "nbformat_minor": 2
}
